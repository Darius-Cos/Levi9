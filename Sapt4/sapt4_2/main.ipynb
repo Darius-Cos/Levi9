{
 "cells": [
  {
   "cell_type": "code",
   "id": "initial_id",
   "metadata": {
    "collapsed": true,
    "ExecuteTime": {
     "end_time": "2025-07-30T13:55:28.298565Z",
     "start_time": "2025-07-30T13:55:28.173553Z"
    }
   },
   "source": [
    "import pandas as pd\n",
    "#import matplotlib.pyplot as plt\n",
    "import os\n",
    "root='week8_dataset'\n",
    "df_product = pd.read_csv('week8_dataset/Product.csv', sep='\\t')\n",
    "df_region = pd.read_csv(os.path.join(root,'Region.csv'), sep='\\t')\n",
    "df_reseller = pd.read_csv(os.path.join(root,'Reseller.csv'), sep='\\t')\n",
    "df_sales = pd.read_csv(os.path.join(root,'Sales.csv'), sep='\\t')\n",
    "df_salesperson= pd.read_csv(os.path.join(root,'Salesperson.csv'), sep='\\t')\n",
    "df_salesperson_region = pd.read_csv(os.path.join(root,'SalespersonRegion.csv'), sep='\\t')\n",
    "df_targets = pd.read_csv(os.path.join(root,'Targets.csv'), sep='\\t')\n",
    "\n",
    "df_sales['Sales']=df_sales['Sales'].str.replace(',','').str.replace('$','')\n",
    "df_sales['Sales']=df_sales['Sales'].astype(float)\n",
    "df_sales['Cost']=df_sales['Cost'].str.replace(',','').str.replace('$','')\n",
    "df_sales['Cost']=df_sales['Cost'].astype(float)\n",
    "df_sales['Margin']=df_sales['Sales']-df_sales['Cost']\n",
    "df_sales['OrderDate']=pd.to_datetime(df_sales['OrderDate'])\n",
    "df_sales['OrderMonth']=df_sales['OrderDate'].dt.month\n",
    "\n",
    "df_mean=df_sales.groupby('OrderMonth')['Margin'].mean()\n",
    "df_max=df_mean.sort_values(ascending=False).reset_index()\n",
    "df_max=df_max.iloc[0]\n",
    "\n",
    "#######2\n",
    "df_sales['OrderYear']=df_sales['OrderDate'].dt.year\n",
    "df_sales=df_sales[df_sales['OrderYear']==2020]\n",
    "\n",
    "salesperson=df_sales.merge(df_salesperson,on='EmployeeKey')\n",
    "sum_salesperson=salesperson.groupby('Salesperson')['Sales'].sum().sort_values(ascending=False).head(5) \n",
    "\n",
    "######3\n",
    "df_sales['OrderYear']=df_sales['OrderDate'].dt.year\n",
    "df_sales=df_sales[df_sales['OrderYear']==2020]\n",
    "\n",
    "salesperson=df_sales.merge(df_salesperson,on='EmployeeKey')\n",
    "\n",
    "\n"
   ],
   "outputs": [
    {
     "data": {
      "text/plain": [
       "Salesperson\n",
       "Linda Mitchell              1612459.84\n",
       "Jae Pak                     1370868.13\n",
       "Ranjit Varkey Chudukatil    1259046.21\n",
       "Michael Blythe              1169352.42\n",
       "Jillian Carson              1036479.79\n",
       "Name: Sales, dtype: float64"
      ]
     },
     "execution_count": 45,
     "metadata": {},
     "output_type": "execute_result"
    }
   ],
   "execution_count": 45
  },
  {
   "metadata": {
    "ExecuteTime": {
     "end_time": "2025-07-30T12:58:36.925103Z",
     "start_time": "2025-07-30T12:58:36.280345Z"
    }
   },
   "cell_type": "code",
   "source": "import pandas as pd",
   "id": "76fc6d2e989213b5",
   "outputs": [],
   "execution_count": 1
  },
  {
   "metadata": {
    "jupyter": {
     "is_executing": true
    }
   },
   "cell_type": "code",
   "source": "",
   "id": "86e831e0a59c7b35",
   "outputs": [],
   "execution_count": null
  },
  {
   "metadata": {},
   "cell_type": "code",
   "outputs": [],
   "execution_count": null,
   "source": "",
   "id": "ee042a7e8a85bec2"
  }
 ],
 "metadata": {
  "kernelspec": {
   "display_name": "Python 3",
   "language": "python",
   "name": "python3"
  },
  "language_info": {
   "codemirror_mode": {
    "name": "ipython",
    "version": 2
   },
   "file_extension": ".py",
   "mimetype": "text/x-python",
   "name": "python",
   "nbconvert_exporter": "python",
   "pygments_lexer": "ipython2",
   "version": "2.7.6"
  }
 },
 "nbformat": 4,
 "nbformat_minor": 5
}
